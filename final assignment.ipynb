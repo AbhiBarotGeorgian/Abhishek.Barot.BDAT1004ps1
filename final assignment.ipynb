{
 "cells": [
  {
   "cell_type": "markdown",
   "id": "62170f4e",
   "metadata": {},
   "source": [
    "# Question 1\n",
    "What data type is each of the following?"
   ]
  },
  {
   "cell_type": "markdown",
   "id": "f0884820",
   "metadata": {},
   "source": [
    "5 is Integer Data Type\n",
    "5.0 is a Float Data Type\n",
    "5 > 1 is a Boolean Data Type\n",
    "'5' is a character data type\n",
    "5 * 2 is a Integer data type\n",
    "'5' * 2 is a string data type\n",
    "'5' + '2' is a string data type\n",
    "5 / 2 is a Float data type\n",
    "5 % 2 is a Integer data type\n",
    "{5, 2, 1} is a array data type\n",
    "5 == 3 is a Boolean data type\n",
    "pie (3.14) is a Float and Double data type"
   ]
  },
  {
   "cell_type": "markdown",
   "id": "635370ce",
   "metadata": {},
   "source": [
    "# Question 2 #a"
   ]
  },
  {
   "cell_type": "code",
   "execution_count": null,
   "id": "c76c1897",
   "metadata": {},
   "outputs": [],
   "source": [
    "using System;\n",
    "using System.IO;\n",
    "\n",
    "public class CharachterCount\n",
    "{\n",
    "    public static void Main()\n",
    "    {\n",
    "        string i = \"Supercalifragilisticexpialidocious\";\n",
    "        int a = i.Length;\n",
    "        Console.WriteLine(a);\n",
    "    }\n",
    "}"
   ]
  },
  {
   "cell_type": "markdown",
   "id": "8ca112ec",
   "metadata": {},
   "source": [
    "# Question 2 #b"
   ]
  },
  {
   "cell_type": "code",
   "execution_count": null,
   "id": "ed9a0934",
   "metadata": {},
   "outputs": [],
   "source": [
    "using System;\n",
    "using System.IO;\n",
    "\n",
    "public class textFind\n",
    "{\n",
    "    public static void Main()\n",
    "    {\n",
    "        var a = \"Supercalifragilisticexpialidocious\";\n",
    "        var b = \"ice\";\n",
    "        \n",
    "        if (a.Contains(b))\n",
    "        {\n",
    "            Console.WriteLine(\"Text found\");\n",
    "        }\n",
    "        else\n",
    "        {\n",
    "            Console.WriteLine(\"Text not Found\");\n",
    "        }\n",
    "    }\n",
    "}"
   ]
  },
  {
   "cell_type": "markdown",
   "id": "2523ff0a",
   "metadata": {},
   "source": [
    "# Question 2 #c"
   ]
  },
  {
   "cell_type": "code",
   "execution_count": null,
   "id": "e6e67c69",
   "metadata": {},
   "outputs": [],
   "source": [
    "using System;\n",
    "namespace sorting\n",
    "{\n",
    "    public class TextIsLargest\n",
    "    {\n",
    "        public static void Main(string[] args)\n",
    "        {\n",
    "            string a = \"Supercalifragilisticexpialidocious\";\n",
    "            Console.WriteLine(\"Length of text a is :\"+ a.Length);\n",
    "            \n",
    "            string b = \"Honorificabilitudinitatibus\";\n",
    "            Console.WriteLine(\"Length of text b is :\"+ b.Length);\n",
    "            \n",
    "            string c = \"Bababadalgharaghtakamminarronnkonn\";\n",
    "            Console.WriteLine(\"Length of text c is :\"+ c.Length);\n",
    "            \n",
    "            if(a.Length > b.Length)\n",
    "            {\n",
    "                if(b.Length > c.Length)\n",
    "                {\n",
    "                    Console.WriteLine(\"Supercalifragilisticexpialidocious is largest text \\n\");\n",
    "                }\n",
    "                \n",
    "                else\n",
    "                {\n",
    "                    Console.WriteLine(\"Bababadalgharaghtakamminarronnkonn is largest text \\n\");\n",
    "                }\n",
    "            }\n",
    "            \n",
    "            else if (b.Length > c.Length)\n",
    "                {\n",
    "                    Console.WriteLine(\"Honorificabilitudinitatibus is Largest text\\n\");\n",
    "                }\n",
    "            else\n",
    "            {\n",
    "                Console.WriteLine(\"Bababadalgharaghtakamminarronnkonn is largest text \\n\");\n",
    "            }\n",
    "        }\n",
    "    }\n",
    "}\n"
   ]
  },
  {
   "cell_type": "markdown",
   "id": "50717fce",
   "metadata": {},
   "source": [
    "# Question 2 #d"
   ]
  },
  {
   "cell_type": "code",
   "execution_count": null,
   "id": "4755fb58",
   "metadata": {},
   "outputs": [],
   "source": [
    "using System;\n",
    "using System.Collections.Generic;\n",
    "using System.Linq;\n",
    "using System.Text;\n",
    "\n",
    "namespace textdictionary\n",
    "{\n",
    "    class TextToDictionary\n",
    "    {\n",
    "        static void Main(String[] args)\n",
    "        {\n",
    "            string[] comp = {\"Berlioz\", \"Borodin\", \"Brian\", \"Bartok\", \"Bellini\", \"Buxtehude\", \"Bernstein\"};\n",
    "            Array.Sort(Composer, (a, b)) => String.Compare(a, b));\n",
    "            \n",
    "            Console.WriteLine($\"First composer : {Composer[0]}\");\n",
    "            Console.WriteLine($\"Last composer : {Composer[Composer.Length - 1]}\");\n",
    "        }\n",
    "        \n",
    "    }\n",
    "}"
   ]
  },
  {
   "cell_type": "markdown",
   "id": "7eec6e53",
   "metadata": {},
   "source": [
    "# Question 3"
   ]
  },
  {
   "cell_type": "code",
   "execution_count": null,
   "id": "3c10ffe0",
   "metadata": {},
   "outputs": [],
   "source": [
    "using System;\n",
    "using System.Collections.Generic;\n",
    "using System.Linq;\n",
    "using System.Text;\n",
    "\n",
    "namespace Heron\n",
    "{\n",
    "    class HeronFormula\n",
    "    {\n",
    "        static void Main(string[] args)\n",
    "        {\n",
    "            double x, y, z;\n",
    "            double F, area;\n",
    "            \n",
    "            Console.WriteLine(\"first parameter:\");\n",
    "            x = double.Parse(Console.ReadLine());\n",
    "            Console.WriteLine(\"Second Parameter:\");\n",
    "            y = double.Parse(Console.ReadLine());\n",
    "            Console.WriteLine(\"third Parameter:\");\n",
    "            z = double.Parse(Console.ReadLine());\n",
    "            \n",
    "            F = (x + y + z) / 2;\n",
    "            area = Math.Sqrt(F * (F - x) * (F-y) * (F-z));\n",
    "            Console.WriteLine(\"The Area of Tringle is :\" +area);\n",
    "            Console.ReadLine();\n",
    "            \n",
    "        }\n",
    "    }\n",
    "}\n"
   ]
  },
  {
   "cell_type": "markdown",
   "id": "d9101bc6",
   "metadata": {},
   "source": [
    "Question 4"
   ]
  },
  {
   "cell_type": "code",
   "execution_count": null,
   "id": "fc8c9856",
   "metadata": {},
   "outputs": [],
   "source": [
    "using System;\n",
    "public class OddEven\n",
    "{\n",
    "    public static void Main()\n",
    "    {\n",
    "        int[] array1 = new int[10];\n",
    "        int[] array2 = new int[10];\n",
    "        int[] array3 = new int[10];\n",
    "        int i,j=0,k=0,n;\n",
    "        \n",
    "            Console.Write(\"\\n\\n  odd and Even in different arrays:\\n\");\n",
    "            Console.Write(\"--------------------------------------------------------\\n\");\n",
    "            \n",
    "            Console.Write(\"Input the number of elements to be stored in the array :\");\n",
    "            n = Convert.ToInt32(Console.ReadLine());\n",
    "            \n",
    "            Console.Write(\"Input {0} elements in an array : \\n\",n);\n",
    "            for(i=0;i<n;i++)\n",
    "                {\n",
    "                    Console.Write(\"element - {0} : \",i);\n",
    "                    array1[i] = Convert.ToInt32(Console.ReadLine());\n",
    "                }\n",
    "            for(i=0;i<n;i++)\n",
    "            {\n",
    "                if(array1[i]%2 == 0)\n",
    "                {\n",
    "                    array2[j] = array1[i];\n",
    "                    j++;\n",
    "                }\n",
    "                else\n",
    "                {\n",
    "                    array3[k] = array1[i];\n",
    "                    k++;\n",
    "                }\n",
    "            }\n",
    "            Console.Write(\"\\n The Even Elements are: \\n\");\n",
    "            for(i=0;i<j;i++)\n",
    "            {\n",
    "                Console.Write(\"{0}\",array2[i]);\n",
    "            }\n",
    "            \n",
    "            Console.Write(\"\\n The Odd Elements are: \\n\");\n",
    "            for(i=0;i<k;i++)\n",
    "            {\n",
    "                Console.Write(\"{0}\",array3[i]);\n",
    "            }\n",
    "            Console.Write(\"\\n\\n\");\n",
    "    }\n",
    "}"
   ]
  },
  {
   "cell_type": "markdown",
   "id": "4418bed8",
   "metadata": {},
   "source": [
    "Question 5"
   ]
  },
  {
   "cell_type": "code",
   "execution_count": null,
   "id": "3363e19c",
   "metadata": {},
   "outputs": [],
   "source": [
    "using System;\n",
    "using System.Collections.Generic;\n",
    "using System.Linq;\n",
    "using System.Text;\n",
    "\n",
    "namespace consoleapp\n",
    "{\n",
    "    class Abhi\n",
    "    {\n",
    "        static bool inside(double x,double y, double x1, double y1, double x2, double y2)\n",
    "        {\n",
    "            if (x > x1 && x < x2 && y > y1 && y < y2)\n",
    "                return true;\n",
    "            return false;\n",
    "        }\n",
    "        \n",
    "        static void Main(string[] args)\n",
    "        {\n",
    "            Console.Write(\"x : \");\n",
    "            double x = Convert.ToDouble(Console.ReadLine());\n",
    "            Console.Write(\"x1 : \");\n",
    "            double x1 = Convert.ToDouble(Console.ReadLine());\n",
    "            Console.Write(\"x2 : \");\n",
    "            double x2 = Convert.ToDouble(Console.ReadLine());\n",
    "            Console.Write(\"y : \");\n",
    "            double y = Convert.ToDouble(Console.ReadLine());\n",
    "            Console.Write(\"y1 : \");\n",
    "            double y1 = Convert.ToDouble(Console.ReadLine());\n",
    "            Console.Write(\"y2 : \");\n",
    "            double y2 = Convert.ToDouble(Console.ReadLine());\n",
    "            \n",
    "            if (inside(x, y, x1, y1, x2, y2))\n",
    "                Console.Write(\"true\");\n",
    "            else\n",
    "                Console.Write(\"false\");\n",
    "        }\n",
    "    }\n",
    "}"
   ]
  },
  {
   "cell_type": "markdown",
   "id": "ffe74217",
   "metadata": {},
   "source": [
    "Question 6"
   ]
  },
  {
   "cell_type": "code",
   "execution_count": null,
   "id": "6b54660d",
   "metadata": {},
   "outputs": [],
   "source": [
    "A1 = 'ay'\n",
    "B1 = 'way'\n",
    "\n",
    "consonant = ('B','C','D','F','G','H','J','K','L','M','N','P','Q','R','S','T','Y','V','X','Z')\n",
    "vowel = ('A','E','I','O','U')\n",
    "\n",
    "enter_word = input('what you wanted to translate into pigLatin :')\n",
    "word = enter_word[0]\n",
    "word = str(word)\n",
    "word = word.upper()\n",
    "    \n",
    "    if word in consonant:\n",
    "        print(word,'is a consonant')\n",
    "        length_of_word = len(enter_word)\n",
    "        remove_word = enter_word[1:length_of_word]\n",
    "        pig_latin = remove_word + word + A1\n",
    "        print('The word is latin :',pig_latin)\n",
    "    elif word in vowel:\n",
    "        print(word,'is a vowel')\n",
    "        pig_latin = enter_word + B1\n",
    "        print('The word in Latin is:',pig_latin)\n",
    "    else:\n",
    "        print('No',word,'found')"
   ]
  },
  {
   "cell_type": "markdown",
   "id": "d2629e36",
   "metadata": {},
   "source": [
    "Question 7"
   ]
  },
  {
   "cell_type": "code",
   "execution_count": null,
   "id": "f5409fb7",
   "metadata": {},
   "outputs": [],
   "source": [
    "def BloodCount(bloodtype1):\n",
    "    infile = open(\"bloodtype1.txt\", 'r')\n",
    "    content = infile.read('r')\n",
    "    infile.close()\n",
    "    content = content.split()\n",
    "    return len(content)\n",
    "\n",
    "for i in bloodtype1:\n",
    "    if content.count(i) == 0:\n",
    "        print('no patients found of blood type', i+'.')\n",
    "    elif content.count(i) == 1:\n",
    "        print('Patients found of blood type', i+'.')\n",
    "    else:\n",
    "        print('There are',content.count(i),'number of patients of bloof type',i+'.')"
   ]
  },
  {
   "cell_type": "markdown",
   "id": "1f00baf3",
   "metadata": {},
   "source": [
    "Question 8"
   ]
  },
  {
   "cell_type": "code",
   "execution_count": null,
   "id": "f006ad41",
   "metadata": {},
   "outputs": [],
   "source": [
    "def curconv(currencyName, amount):\n",
    "    with open(\"currencies.txt\") as x:\n",
    "#conversing currencies in usd\n",
    "        for number, currencies  in enumerate(x,1):\n",
    "            if currencyName in currencies:\n",
    "                data = list(line.split())\n",
    "                    print(double(amount) * double(data[1]))\n",
    "\n",
    "currencyName = input(\"Unit of Currency:\")\n",
    "amount = input(\"Enter the amount of currencies:\")\n",
    "curconv(currencyName, amount)"
   ]
  },
  {
   "cell_type": "markdown",
   "id": "918f3eae",
   "metadata": {},
   "source": [
    "Question 9"
   ]
  },
  {
   "cell_type": "markdown",
   "id": "10d50d2a",
   "metadata": {},
   "source": [
    "* Trying to add incompatible variables, as in\n",
    "  adding 6 + ‘a’\n",
    "--> Type Error\n",
    "\n",
    "* Referring to the 12th item of a list that has only 10 items\n",
    "--> Index Error\n",
    "\n",
    "* Using a value that is out of range for a function’s\n",
    "  input, such as calling math.sqrt(-1.0)\n",
    "--> Value Error\n",
    "\n",
    "* Using an undeclared variable, such as print(x)\n",
    "  when x has not been defined \n",
    "--> Syntax Error\n",
    "\n",
    "* Trying to open a file that does not exist, such as\n",
    "  mistyping the file name or looking in the wrong directory.\n",
    "--> FileNotFound Error"
   ]
  },
  {
   "cell_type": "code",
   "execution_count": null,
   "id": "e8022e52",
   "metadata": {},
   "outputs": [],
   "source": []
  }
 ],
 "metadata": {
  "kernelspec": {
   "display_name": ".NET (C#)",
   "language": "C#",
   "name": ".net-csharp"
  },
  "language_info": {
   "file_extension": ".cs",
   "mimetype": "text/x-csharp",
   "name": "C#",
   "pygments_lexer": "csharp",
   "version": "8.0"
  }
 },
 "nbformat": 4,
 "nbformat_minor": 5
}
